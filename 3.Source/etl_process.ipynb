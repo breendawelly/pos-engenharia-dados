{
 "cells": [
  {
   "cell_type": "markdown",
   "metadata": {},
   "source": [
    "## <center> ETL Process - Acidentes de Transito em Recife  <br> <small>\n",
    "##### adicionar um resumo"
   ]
  },
  {
   "cell_type": "markdown",
   "metadata": {},
   "source": [
    "#### Código"
   ]
  },
  {
   "cell_type": "code",
   "execution_count": 1,
   "metadata": {},
   "outputs": [],
   "source": [
    "# Importaçoes\n",
    "import pandas as pd \n",
    "import numpy as np \n",
    "import unidecode "
   ]
  },
  {
   "cell_type": "markdown",
   "metadata": {},
   "source": [
    "### Leitura dos dados <br> <small> Nessa seção, estaremos realizando a leitura dos dados brutos relacionados a acidentes de transitos na cidade do Recife-Pernambuco"
   ]
  },
  {
   "cell_type": "code",
   "execution_count": 2,
   "metadata": {},
   "outputs": [],
   "source": [
    "#Bases de acidentes de transito\n",
    "df_2019 = pd.read_csv(\"http://dados.recife.pe.gov.br/dataset/44087d2d-73b5-4ab3-9bd8-78da7436eed1/resource/3531bafe-d47d-415e-b154-a881081ac76c/download/acidentes-2019.csv\", delimiter=\";\")\n",
    "df_2020 = pd.read_csv(\"http://dados.recife.pe.gov.br/dataset/44087d2d-73b5-4ab3-9bd8-78da7436eed1/resource/fc1c8460-0406-4fff-b51a-e79205d1f1ab/download/acidentes_2020-novo.csv\", delimiter=\";\")\n",
    "df_2021 = pd.read_csv(\"http://dados.recife.pe.gov.br/dataset/44087d2d-73b5-4ab3-9bd8-78da7436eed1/resource/2caa8f41-ccd9-4ea5-906d-f66017d6e107/download/acidentes2021.csv\", delimiter=\";\")\n",
    "df_2022 = pd.read_csv(\"http://dados.recife.pe.gov.br/dataset/44087d2d-73b5-4ab3-9bd8-78da7436eed1/resource/971e0228-fa9c-4a42-b360-c842b29d2f56/download/acidentes2022.csv\", delimiter=\";\")\n",
    "\n",
    "#Base com codigos dos bairros do Recife\n",
    "bairros_recife = pd.read_csv(\"http://dados.recife.pe.gov.br/dataset/c1f100f0-f56f-4dd4-9dcc-1aa4da28798a/resource/698d8fe1-d30a-485f-8d5d-307d46163d0c/download/bairro.csv\", delimiter=\";\")\n"
   ]
  },
  {
   "cell_type": "markdown",
   "metadata": {},
   "source": [
    "### Análise Exploratoria <br> <small> Vamos explorar os dados para entender melhor sua estrutura de conteudo."
   ]
  },
  {
   "cell_type": "code",
   "execution_count": 3,
   "metadata": {},
   "outputs": [
    {
     "data": {
      "text/html": [
       "<div>\n",
       "<style scoped>\n",
       "    .dataframe tbody tr th:only-of-type {\n",
       "        vertical-align: middle;\n",
       "    }\n",
       "\n",
       "    .dataframe tbody tr th {\n",
       "        vertical-align: top;\n",
       "    }\n",
       "\n",
       "    .dataframe thead th {\n",
       "        text-align: right;\n",
       "    }\n",
       "</style>\n",
       "<table border=\"1\" class=\"dataframe\">\n",
       "  <thead>\n",
       "    <tr style=\"text-align: right;\">\n",
       "      <th></th>\n",
       "      <th>DATA</th>\n",
       "      <th>hora</th>\n",
       "      <th>natureza_acidente</th>\n",
       "      <th>situacao</th>\n",
       "      <th>bairro</th>\n",
       "      <th>endereco</th>\n",
       "      <th>numero</th>\n",
       "      <th>detalhe_endereco_acidente</th>\n",
       "      <th>complemento</th>\n",
       "      <th>endereco_cruzamento</th>\n",
       "      <th>numero_cruzamento</th>\n",
       "      <th>referencia_cruzamento</th>\n",
       "      <th>bairro_cruzamento</th>\n",
       "      <th>num_semaforo</th>\n",
       "      <th>sentido_via</th>\n",
       "      <th>tipo</th>\n",
       "      <th>descricao</th>\n",
       "      <th>auto</th>\n",
       "      <th>moto</th>\n",
       "      <th>ciclom</th>\n",
       "      <th>ciclista</th>\n",
       "      <th>pedestre</th>\n",
       "      <th>onibus</th>\n",
       "      <th>caminhao</th>\n",
       "      <th>viatura</th>\n",
       "      <th>outros</th>\n",
       "      <th>vitimas</th>\n",
       "      <th>vitimasfatais</th>\n",
       "      <th>acidente_verificado</th>\n",
       "      <th>tempo_clima</th>\n",
       "      <th>situacao_semaforo</th>\n",
       "      <th>sinalizacao</th>\n",
       "      <th>condicao_via</th>\n",
       "      <th>conservacao_via</th>\n",
       "      <th>ponto_controle</th>\n",
       "      <th>situacao_placa</th>\n",
       "      <th>velocidade_max_via</th>\n",
       "      <th>mao_direcao</th>\n",
       "      <th>divisao_via1</th>\n",
       "      <th>divisao_via2</th>\n",
       "      <th>divisao_via3</th>\n",
       "    </tr>\n",
       "  </thead>\n",
       "  <tbody>\n",
       "    <tr>\n",
       "      <th>0</th>\n",
       "      <td>2019-01-01</td>\n",
       "      <td>00:41:00</td>\n",
       "      <td>SEM VÍTIMA</td>\n",
       "      <td>FINALIZADA</td>\n",
       "      <td>IPSEP</td>\n",
       "      <td>AV RECIFE</td>\n",
       "      <td>NaN</td>\n",
       "      <td>NaN</td>\n",
       "      <td>LADO OPOSTO AO Nº 3257</td>\n",
       "      <td>AV RECIFE</td>\n",
       "      <td>NaN</td>\n",
       "      <td>LADO OPOSTO AO Nº 3257</td>\n",
       "      <td>IPSEP</td>\n",
       "      <td>NaN</td>\n",
       "      <td>SUBURBIO</td>\n",
       "      <td>COLISÃO TRASEIRA</td>\n",
       "      <td>ART.181, OBSTRUÇÃO DE ENTRADA E SAÍDA DE GARAG...</td>\n",
       "      <td>2.0</td>\n",
       "      <td>NaN</td>\n",
       "      <td>NaN</td>\n",
       "      <td>NaN</td>\n",
       "      <td>NaN</td>\n",
       "      <td>NaN</td>\n",
       "      <td>NaN</td>\n",
       "      <td>NaN</td>\n",
       "      <td>NaN</td>\n",
       "      <td>0.0</td>\n",
       "      <td>NaN</td>\n",
       "      <td>Longo da via</td>\n",
       "      <td>Bom</td>\n",
       "      <td>Não existe</td>\n",
       "      <td>Perfeito estado</td>\n",
       "      <td>Seca</td>\n",
       "      <td>Perfeito estado</td>\n",
       "      <td>Não existe</td>\n",
       "      <td>Não há placas</td>\n",
       "      <td>60 km/h</td>\n",
       "      <td>Única</td>\n",
       "      <td>Faixa seccionada</td>\n",
       "      <td>NaN</td>\n",
       "      <td>NaN</td>\n",
       "    </tr>\n",
       "    <tr>\n",
       "      <th>1</th>\n",
       "      <td>2019-01-01</td>\n",
       "      <td>01:37:00</td>\n",
       "      <td>SEM VÍTIMA</td>\n",
       "      <td>FINALIZADA</td>\n",
       "      <td>BOA VIAGEM</td>\n",
       "      <td>RUA PADRE BERNADINO PESSOA</td>\n",
       "      <td>NaN</td>\n",
       "      <td>RUA MINISTRO NELSON HUNGRIA</td>\n",
       "      <td>NaN</td>\n",
       "      <td>RUA PADRE BERNADINO PESSOA</td>\n",
       "      <td>NaN</td>\n",
       "      <td>NaN</td>\n",
       "      <td>BOA VIAGEM</td>\n",
       "      <td>NaN</td>\n",
       "      <td>NaN</td>\n",
       "      <td>ABALROAMENTO TRANSVERSAL</td>\n",
       "      <td>COLISÃO ENTRE DOIS AUTOS S/V</td>\n",
       "      <td>2.0</td>\n",
       "      <td>NaN</td>\n",
       "      <td>NaN</td>\n",
       "      <td>NaN</td>\n",
       "      <td>NaN</td>\n",
       "      <td>NaN</td>\n",
       "      <td>NaN</td>\n",
       "      <td>NaN</td>\n",
       "      <td>NaN</td>\n",
       "      <td>0.0</td>\n",
       "      <td>NaN</td>\n",
       "      <td>Cruzamento</td>\n",
       "      <td>Bom</td>\n",
       "      <td>Não existe</td>\n",
       "      <td>Perfeito estado</td>\n",
       "      <td>Seca</td>\n",
       "      <td>Perfeito estado</td>\n",
       "      <td>Faixa de pedestre</td>\n",
       "      <td>Não há placas</td>\n",
       "      <td>NaN</td>\n",
       "      <td>Única</td>\n",
       "      <td>Não existe</td>\n",
       "      <td>NaN</td>\n",
       "      <td>NaN</td>\n",
       "    </tr>\n",
       "    <tr>\n",
       "      <th>2</th>\n",
       "      <td>2019-01-01</td>\n",
       "      <td>14:20:00</td>\n",
       "      <td>SEM VÍTIMA</td>\n",
       "      <td>CANCELADA</td>\n",
       "      <td>BOA VIAGEM</td>\n",
       "      <td>AV ENGENHEIRO DOMINGOS FERREIRA</td>\n",
       "      <td>NaN</td>\n",
       "      <td>RUA DOM JOSE LOPES</td>\n",
       "      <td>EM FRENTE A DELEGACIA DE BOA VIAGEM, LADO ESQU...</td>\n",
       "      <td>AV ENGENHEIRO DOMINGOS FERREIRA</td>\n",
       "      <td>NaN</td>\n",
       "      <td>EM FRENTE A DELEGACIA DE BOA VIAGEM, LADO ESQU...</td>\n",
       "      <td>BOA VIAGEM</td>\n",
       "      <td>NaN</td>\n",
       "      <td>NaN</td>\n",
       "      <td>COLISÃO</td>\n",
       "      <td>COLISÃO ENTRE DOIS AUTOS S/V</td>\n",
       "      <td>2.0</td>\n",
       "      <td>NaN</td>\n",
       "      <td>NaN</td>\n",
       "      <td>NaN</td>\n",
       "      <td>NaN</td>\n",
       "      <td>NaN</td>\n",
       "      <td>NaN</td>\n",
       "      <td>NaN</td>\n",
       "      <td>NaN</td>\n",
       "      <td>0.0</td>\n",
       "      <td>NaN</td>\n",
       "      <td>NaN</td>\n",
       "      <td>NaN</td>\n",
       "      <td>NaN</td>\n",
       "      <td>NaN</td>\n",
       "      <td>NaN</td>\n",
       "      <td>NaN</td>\n",
       "      <td>NaN</td>\n",
       "      <td>NaN</td>\n",
       "      <td>NaN</td>\n",
       "      <td>NaN</td>\n",
       "      <td>NaN</td>\n",
       "      <td>NaN</td>\n",
       "      <td>NaN</td>\n",
       "    </tr>\n",
       "    <tr>\n",
       "      <th>3</th>\n",
       "      <td>2019-01-01</td>\n",
       "      <td>02:53:00</td>\n",
       "      <td>SEM VÍTIMA</td>\n",
       "      <td>CANCELADA</td>\n",
       "      <td>IMBIRIBEIRA</td>\n",
       "      <td>AV GENERAL MAC ARTHUR</td>\n",
       "      <td>100</td>\n",
       "      <td>RUA JACY</td>\n",
       "      <td>EM FRENTE A ART LED ILUMINAÇÃO</td>\n",
       "      <td>AV GENERAL MAC ARTHUR</td>\n",
       "      <td>100</td>\n",
       "      <td>EM FRENTE A ART LED ILUMINAÇÃO</td>\n",
       "      <td>IMBIRIBEIRA</td>\n",
       "      <td>NaN</td>\n",
       "      <td>NaN</td>\n",
       "      <td>COLISÃO</td>\n",
       "      <td>COLISÃO ENTRE DOIS AUTOS S/V</td>\n",
       "      <td>2.0</td>\n",
       "      <td>NaN</td>\n",
       "      <td>NaN</td>\n",
       "      <td>NaN</td>\n",
       "      <td>NaN</td>\n",
       "      <td>NaN</td>\n",
       "      <td>NaN</td>\n",
       "      <td>NaN</td>\n",
       "      <td>NaN</td>\n",
       "      <td>0.0</td>\n",
       "      <td>NaN</td>\n",
       "      <td>NaN</td>\n",
       "      <td>NaN</td>\n",
       "      <td>NaN</td>\n",
       "      <td>NaN</td>\n",
       "      <td>NaN</td>\n",
       "      <td>NaN</td>\n",
       "      <td>NaN</td>\n",
       "      <td>NaN</td>\n",
       "      <td>NaN</td>\n",
       "      <td>NaN</td>\n",
       "      <td>NaN</td>\n",
       "      <td>NaN</td>\n",
       "      <td>NaN</td>\n",
       "    </tr>\n",
       "    <tr>\n",
       "      <th>4</th>\n",
       "      <td>2019-01-01</td>\n",
       "      <td>08:17:00</td>\n",
       "      <td>COM VÍTIMA</td>\n",
       "      <td>FINALIZADA</td>\n",
       "      <td>JAQUEIRA</td>\n",
       "      <td>RUA TITO ROSAS</td>\n",
       "      <td>63</td>\n",
       "      <td>NaN</td>\n",
       "      <td>ED. JARDINS DA JAQUEIRA</td>\n",
       "      <td>RUA TITO ROSAS</td>\n",
       "      <td>63</td>\n",
       "      <td>ED. JARDINS DA JAQUEIRA</td>\n",
       "      <td>JAQUEIRA</td>\n",
       "      <td>NaN</td>\n",
       "      <td>SUBURBIO</td>\n",
       "      <td>COLISÃO COM CICLISTA</td>\n",
       "      <td>COLISÃO ENVOLVENDO ÔNIBUS E BICICLETA COM VÍTI...</td>\n",
       "      <td>NaN</td>\n",
       "      <td>NaN</td>\n",
       "      <td>NaN</td>\n",
       "      <td>1.0</td>\n",
       "      <td>NaN</td>\n",
       "      <td>1.0</td>\n",
       "      <td>NaN</td>\n",
       "      <td>NaN</td>\n",
       "      <td>NaN</td>\n",
       "      <td>1.0</td>\n",
       "      <td>NaN</td>\n",
       "      <td>Longo da via</td>\n",
       "      <td>Bom</td>\n",
       "      <td>Não existe</td>\n",
       "      <td>Perfeito estado</td>\n",
       "      <td>Seca</td>\n",
       "      <td>Perfeito estado</td>\n",
       "      <td>Não existe</td>\n",
       "      <td>Não há placas</td>\n",
       "      <td>40 km/h</td>\n",
       "      <td>Única</td>\n",
       "      <td>Faixa seccionada</td>\n",
       "      <td>NaN</td>\n",
       "      <td>NaN</td>\n",
       "    </tr>\n",
       "  </tbody>\n",
       "</table>\n",
       "</div>"
      ],
      "text/plain": [
       "         DATA      hora natureza_acidente    situacao       bairro  \\\n",
       "0  2019-01-01  00:41:00        SEM VÍTIMA  FINALIZADA        IPSEP   \n",
       "1  2019-01-01  01:37:00        SEM VÍTIMA  FINALIZADA   BOA VIAGEM   \n",
       "2  2019-01-01  14:20:00        SEM VÍTIMA   CANCELADA   BOA VIAGEM   \n",
       "3  2019-01-01  02:53:00        SEM VÍTIMA   CANCELADA  IMBIRIBEIRA   \n",
       "4  2019-01-01  08:17:00        COM VÍTIMA  FINALIZADA     JAQUEIRA   \n",
       "\n",
       "                          endereco numero    detalhe_endereco_acidente  \\\n",
       "0                        AV RECIFE    NaN                          NaN   \n",
       "1       RUA PADRE BERNADINO PESSOA    NaN  RUA MINISTRO NELSON HUNGRIA   \n",
       "2  AV ENGENHEIRO DOMINGOS FERREIRA    NaN           RUA DOM JOSE LOPES   \n",
       "3            AV GENERAL MAC ARTHUR    100                     RUA JACY   \n",
       "4                   RUA TITO ROSAS     63                          NaN   \n",
       "\n",
       "                                         complemento  \\\n",
       "0                             LADO OPOSTO AO Nº 3257   \n",
       "1                                                NaN   \n",
       "2  EM FRENTE A DELEGACIA DE BOA VIAGEM, LADO ESQU...   \n",
       "3                     EM FRENTE A ART LED ILUMINAÇÃO   \n",
       "4                            ED. JARDINS DA JAQUEIRA   \n",
       "\n",
       "               endereco_cruzamento numero_cruzamento  \\\n",
       "0                        AV RECIFE               NaN   \n",
       "1       RUA PADRE BERNADINO PESSOA               NaN   \n",
       "2  AV ENGENHEIRO DOMINGOS FERREIRA               NaN   \n",
       "3            AV GENERAL MAC ARTHUR               100   \n",
       "4                   RUA TITO ROSAS                63   \n",
       "\n",
       "                               referencia_cruzamento bairro_cruzamento  \\\n",
       "0                             LADO OPOSTO AO Nº 3257             IPSEP   \n",
       "1                                                NaN        BOA VIAGEM   \n",
       "2  EM FRENTE A DELEGACIA DE BOA VIAGEM, LADO ESQU...        BOA VIAGEM   \n",
       "3                     EM FRENTE A ART LED ILUMINAÇÃO       IMBIRIBEIRA   \n",
       "4                            ED. JARDINS DA JAQUEIRA          JAQUEIRA   \n",
       "\n",
       "   num_semaforo sentido_via                      tipo  \\\n",
       "0           NaN    SUBURBIO          COLISÃO TRASEIRA   \n",
       "1           NaN         NaN  ABALROAMENTO TRANSVERSAL   \n",
       "2           NaN         NaN                   COLISÃO   \n",
       "3           NaN         NaN                   COLISÃO   \n",
       "4           NaN    SUBURBIO      COLISÃO COM CICLISTA   \n",
       "\n",
       "                                           descricao  auto  moto  ciclom  \\\n",
       "0  ART.181, OBSTRUÇÃO DE ENTRADA E SAÍDA DE GARAG...   2.0   NaN     NaN   \n",
       "1                       COLISÃO ENTRE DOIS AUTOS S/V   2.0   NaN     NaN   \n",
       "2                       COLISÃO ENTRE DOIS AUTOS S/V   2.0   NaN     NaN   \n",
       "3                       COLISÃO ENTRE DOIS AUTOS S/V   2.0   NaN     NaN   \n",
       "4  COLISÃO ENVOLVENDO ÔNIBUS E BICICLETA COM VÍTI...   NaN   NaN     NaN   \n",
       "\n",
       "   ciclista  pedestre  onibus  caminhao  viatura  outros  vitimas  \\\n",
       "0       NaN       NaN     NaN       NaN      NaN     NaN      0.0   \n",
       "1       NaN       NaN     NaN       NaN      NaN     NaN      0.0   \n",
       "2       NaN       NaN     NaN       NaN      NaN     NaN      0.0   \n",
       "3       NaN       NaN     NaN       NaN      NaN     NaN      0.0   \n",
       "4       1.0       NaN     1.0       NaN      NaN     NaN      1.0   \n",
       "\n",
       "   vitimasfatais acidente_verificado tempo_clima situacao_semaforo  \\\n",
       "0            NaN        Longo da via         Bom        Não existe   \n",
       "1            NaN          Cruzamento         Bom        Não existe   \n",
       "2            NaN                 NaN         NaN               NaN   \n",
       "3            NaN                 NaN         NaN               NaN   \n",
       "4            NaN        Longo da via         Bom        Não existe   \n",
       "\n",
       "       sinalizacao condicao_via  conservacao_via     ponto_controle  \\\n",
       "0  Perfeito estado         Seca  Perfeito estado         Não existe   \n",
       "1  Perfeito estado         Seca  Perfeito estado  Faixa de pedestre   \n",
       "2              NaN          NaN              NaN                NaN   \n",
       "3              NaN          NaN              NaN                NaN   \n",
       "4  Perfeito estado         Seca  Perfeito estado         Não existe   \n",
       "\n",
       "  situacao_placa velocidade_max_via mao_direcao      divisao_via1  \\\n",
       "0  Não há placas            60 km/h       Única  Faixa seccionada   \n",
       "1  Não há placas                NaN       Única        Não existe   \n",
       "2            NaN                NaN         NaN               NaN   \n",
       "3            NaN                NaN         NaN               NaN   \n",
       "4  Não há placas            40 km/h       Única  Faixa seccionada   \n",
       "\n",
       "  divisao_via2 divisao_via3  \n",
       "0          NaN          NaN  \n",
       "1          NaN          NaN  \n",
       "2          NaN          NaN  \n",
       "3          NaN          NaN  \n",
       "4          NaN          NaN  "
      ]
     },
     "execution_count": 3,
     "metadata": {},
     "output_type": "execute_result"
    }
   ],
   "source": [
    "# permitir que todas as colunas dessa base sejam visualizadas\n",
    "pd.set_option('display.max_columns', None)\n",
    "\n",
    "#leitura da base de 2019\n",
    "df_2019.head() \n"
   ]
  },
  {
   "cell_type": "code",
   "execution_count": 4,
   "metadata": {},
   "outputs": [
    {
     "name": "stdout",
     "output_type": "stream",
     "text": [
      "<class 'pandas.core.frame.DataFrame'>\n",
      "RangeIndex: 12062 entries, 0 to 12061\n",
      "Data columns (total 41 columns):\n",
      " #   Column                     Non-Null Count  Dtype  \n",
      "---  ------                     --------------  -----  \n",
      " 0   DATA                       12062 non-null  object \n",
      " 1   hora                       12046 non-null  object \n",
      " 2   natureza_acidente          12058 non-null  object \n",
      " 3   situacao                   12058 non-null  object \n",
      " 4   bairro                     11914 non-null  object \n",
      " 5   endereco                   12009 non-null  object \n",
      " 6   numero                     6013 non-null   object \n",
      " 7   detalhe_endereco_acidente  4308 non-null   object \n",
      " 8   complemento                9609 non-null   object \n",
      " 9   endereco_cruzamento        12002 non-null  object \n",
      " 10  numero_cruzamento          6011 non-null   object \n",
      " 11  referencia_cruzamento      9606 non-null   object \n",
      " 12  bairro_cruzamento          11909 non-null  object \n",
      " 13  num_semaforo               3029 non-null   float64\n",
      " 14  sentido_via                8293 non-null   object \n",
      " 15  tipo                       12062 non-null  object \n",
      " 16  descricao                  11762 non-null  object \n",
      " 17  auto                       11140 non-null  float64\n",
      " 18  moto                       2904 non-null   float64\n",
      " 19  ciclom                     48 non-null     float64\n",
      " 20  ciclista                   224 non-null    float64\n",
      " 21  pedestre                   255 non-null    float64\n",
      " 22  onibus                     1811 non-null   float64\n",
      " 23  caminhao                   1224 non-null   float64\n",
      " 24  viatura                    122 non-null    float64\n",
      " 25  outros                     210 non-null    float64\n",
      " 26  vitimas                    12035 non-null  float64\n",
      " 27  vitimasfatais              25 non-null     float64\n",
      " 28  acidente_verificado        9191 non-null   object \n",
      " 29  tempo_clima                9706 non-null   object \n",
      " 30  situacao_semaforo          9581 non-null   object \n",
      " 31  sinalizacao                9524 non-null   object \n",
      " 32  condicao_via               9673 non-null   object \n",
      " 33  conservacao_via            9525 non-null   object \n",
      " 34  ponto_controle             8670 non-null   object \n",
      " 35  situacao_placa             8733 non-null   object \n",
      " 36  velocidade_max_via         2858 non-null   object \n",
      " 37  mao_direcao                9522 non-null   object \n",
      " 38  divisao_via1               9130 non-null   object \n",
      " 39  divisao_via2               908 non-null    object \n",
      " 40  divisao_via3               150 non-null    object \n",
      "dtypes: float64(12), object(29)\n",
      "memory usage: 3.8+ MB\n"
     ]
    }
   ],
   "source": [
    "\n",
    "#leitura de informações por coluna e tipo de dados\n",
    "df_2019.info()"
   ]
  },
  {
   "cell_type": "code",
   "execution_count": 5,
   "metadata": {},
   "outputs": [],
   "source": [
    "# Colunas selecionadas para o estudo na base de 2019\n",
    "colunas_selecionadas_2019 = [ \"DATA\", \"hora\", \"natureza_acidente\",\"situacao\",\"bairro\",\"bairro_cruzamento\", \"auto\", \"moto\", \"ciclom\",\t\"ciclista\",\t\"pedestre\",\t\"onibus\",\t\"caminhao\",\t\"viatura\",\t\"outros\",\t\"vitimas\", \"tempo_clima\",\"sinalizacao\",\t\"condicao_via\",\t\"conservacao_via\",\"mao_direcao\" ]\n",
    "\n",
    "df_2019_spec = df_2019[colunas_selecionadas_2019]"
   ]
  },
  {
   "cell_type": "code",
   "execution_count": 6,
   "metadata": {},
   "outputs": [
    {
     "name": "stdout",
     "output_type": "stream",
     "text": [
      "Index(['hora', 'natureza_acidente', 'situacao', 'bairro', 'bairro_cruzamento',\n",
      "       'tempo_clima', 'sinalizacao', 'condicao_via', 'conservacao_via',\n",
      "       'mao_direcao'],\n",
      "      dtype='object')\n"
     ]
    }
   ],
   "source": [
    "# Aplica uma função para verificar os tipos únicos em cada coluna\n",
    "unique_types = df_2019_spec.applymap(type).nunique()\n",
    "\n",
    "\n",
    "# Exibe as colunas com mais de um tipo único\n",
    "mixed_type_columns = unique_types[unique_types >1].index\n",
    "print(mixed_type_columns)"
   ]
  },
  {
   "cell_type": "markdown",
   "metadata": {},
   "source": [
    "### tratamento de dados"
   ]
  },
  {
   "cell_type": "code",
   "execution_count": 7,
   "metadata": {},
   "outputs": [],
   "source": [
    "#Tratamento para valores nulos \n",
    "valores_nulos = {\"hora\": '00:00', \"natureza_acidente\":'OUTROS', \"situacao\":'OUTROS',\"bairro\":'OUTROS',\"bairro_cruzamento\":'OUTROS', \"auto\":'0', \"moto\":'0', \"ciclom\":'0', \"ciclista\":'0',\t\"pedestre\":'0',\"onibus\":'0', \"caminhao\":'0', \"viatura\":'0',\t\"outros\":'0', \"vitimas\":'0', \"tempo_clima\":'OUTROS',\"sinalizacao\":'OUTROS',\t\"condicao_via\":'OUTROS',\t\"conservacao_via\":'OUTROS',\"mao_direcao\":'OUTROS'  }\n",
    "\n",
    "df_2019_spec = df_2019_spec.fillna(valores_nulos)"
   ]
  },
  {
   "cell_type": "code",
   "execution_count": 8,
   "metadata": {},
   "outputs": [],
   "source": [
    "# tratamento de mudar o tipo de dado do campo DATA\n",
    "\n",
    "df_2019_spec['DATA'] = pd.to_datetime(df_2019_spec['DATA'])"
   ]
  },
  {
   "cell_type": "code",
   "execution_count": 9,
   "metadata": {},
   "outputs": [],
   "source": [
    "# convertendo colunas para str\n",
    "str_columns = ['hora', 'natureza_acidente', 'situacao', 'bairro', 'bairro_cruzamento', 'tempo_clima', 'sinalizacao', 'condicao_via','conservacao_via', 'mao_direcao']\n",
    "df_2019_spec['mao_direcao'] = df_2019_spec['mao_direcao'].astype(str).apply(lambda x:unidecode.unidecode(x))\n",
    "df_2019_spec[str_columns] = df_2019_spec[str_columns].astype(str).apply(lambda x: x.str.upper())\n",
    "df_2019_spec['Bairro'] = df_2019_spec['Bairro'].astype(str).apply(lambda x: unidecode.unidecode(x).upper())"
   ]
  },
  {
   "cell_type": "code",
   "execution_count": 10,
   "metadata": {},
   "outputs": [],
   "source": [
    "# Convertendo colunas para inteiros\n",
    "int_columns = ['auto', 'moto', 'ciclom', 'ciclista', 'pedestre', 'onibus', 'caminhao', 'viatura', 'outros', 'vitimas']\n",
    "df_2019_spec[int_columns] = df_2019_spec[int_columns].fillna(0).astype(int)"
   ]
  },
  {
   "cell_type": "code",
   "execution_count": 11,
   "metadata": {},
   "outputs": [
    {
     "data": {
      "text/plain": [
       "0"
      ]
     },
     "execution_count": 11,
     "metadata": {},
     "output_type": "execute_result"
    }
   ],
   "source": [
    "df_2019_spec.duplicated().sum()"
   ]
  },
  {
   "cell_type": "code",
   "execution_count": 12,
   "metadata": {},
   "outputs": [
    {
     "data": {
      "text/plain": [
       "DATA                 0\n",
       "hora                 0\n",
       "natureza_acidente    0\n",
       "situacao             0\n",
       "bairro               0\n",
       "bairro_cruzamento    0\n",
       "auto                 0\n",
       "moto                 0\n",
       "ciclom               0\n",
       "ciclista             0\n",
       "pedestre             0\n",
       "onibus               0\n",
       "caminhao             0\n",
       "viatura              0\n",
       "outros               0\n",
       "vitimas              0\n",
       "tempo_clima          0\n",
       "sinalizacao          0\n",
       "condicao_via         0\n",
       "conservacao_via      0\n",
       "mao_direcao          0\n",
       "dtype: int64"
      ]
     },
     "execution_count": 12,
     "metadata": {},
     "output_type": "execute_result"
    }
   ],
   "source": [
    "df_2019_spec.isnull().sum()"
   ]
  },
  {
   "cell_type": "markdown",
   "metadata": {},
   "source": [
    "### Criação de copias de bases"
   ]
  },
  {
   "cell_type": "code",
   "execution_count": 13,
   "metadata": {},
   "outputs": [],
   "source": [
    "# Criação de uma copia da base original de dados de 2019\n",
    "df_2019_staging = df_2019_spec.copy()"
   ]
  },
  {
   "cell_type": "code",
   "execution_count": 24,
   "metadata": {},
   "outputs": [
    {
     "name": "stdout",
     "output_type": "stream",
     "text": [
      "Index(['DATA', 'HORA', 'NATUREZA_ACIDENTE', 'SITUACAO', 'BAIRRO',\n",
      "       'BAIRRO_CRUZAMENTO', 'AUTO', 'MOTO', 'CICLOM', 'CICLISTA', 'PEDESTRE',\n",
      "       'ONIBUS', 'CAMINHAO', 'VIATURA', 'OUTROS', 'VITIMAS', 'TEMPO_CLIMA',\n",
      "       'SINALIZACAO', 'CONDICAO_VIA', 'CONSERVACAO_VIA', 'MAO_DIRECAO', 'RPA'],\n",
      "      dtype='object')\n"
     ]
    }
   ],
   "source": [
    "print(df_2019_staging.columns)"
   ]
  },
  {
   "cell_type": "markdown",
   "metadata": {},
   "source": [
    "### Exploração da Base de Dados do Recife"
   ]
  },
  {
   "cell_type": "code",
   "execution_count": 14,
   "metadata": {},
   "outputs": [
    {
     "data": {
      "text/html": [
       "<div>\n",
       "<style scoped>\n",
       "    .dataframe tbody tr th:only-of-type {\n",
       "        vertical-align: middle;\n",
       "    }\n",
       "\n",
       "    .dataframe tbody tr th {\n",
       "        vertical-align: top;\n",
       "    }\n",
       "\n",
       "    .dataframe thead th {\n",
       "        text-align: right;\n",
       "    }\n",
       "</style>\n",
       "<table border=\"1\" class=\"dataframe\">\n",
       "  <thead>\n",
       "    <tr style=\"text-align: right;\">\n",
       "      <th></th>\n",
       "      <th>Bairro</th>\n",
       "      <th>rpa</th>\n",
       "    </tr>\n",
       "  </thead>\n",
       "  <tbody>\n",
       "    <tr>\n",
       "      <th>0</th>\n",
       "      <td>Aflitos</td>\n",
       "      <td>3</td>\n",
       "    </tr>\n",
       "    <tr>\n",
       "      <th>1</th>\n",
       "      <td>Afogados</td>\n",
       "      <td>5</td>\n",
       "    </tr>\n",
       "    <tr>\n",
       "      <th>2</th>\n",
       "      <td>Agua Fria</td>\n",
       "      <td>2</td>\n",
       "    </tr>\n",
       "    <tr>\n",
       "      <th>3</th>\n",
       "      <td>Alto Do Mandu</td>\n",
       "      <td>3</td>\n",
       "    </tr>\n",
       "    <tr>\n",
       "      <th>4</th>\n",
       "      <td>Alto Jose Bonifacio</td>\n",
       "      <td>3</td>\n",
       "    </tr>\n",
       "  </tbody>\n",
       "</table>\n",
       "</div>"
      ],
      "text/plain": [
       "                Bairro  rpa\n",
       "0              Aflitos    3\n",
       "1             Afogados    5\n",
       "2            Agua Fria    2\n",
       "3        Alto Do Mandu    3\n",
       "4  Alto Jose Bonifacio    3"
      ]
     },
     "execution_count": 14,
     "metadata": {},
     "output_type": "execute_result"
    }
   ],
   "source": [
    "bairros_recife.head()"
   ]
  },
  {
   "cell_type": "code",
   "execution_count": 15,
   "metadata": {},
   "outputs": [
    {
     "name": "stdout",
     "output_type": "stream",
     "text": [
      "<class 'pandas.core.frame.DataFrame'>\n",
      "RangeIndex: 94 entries, 0 to 93\n",
      "Data columns (total 2 columns):\n",
      " #   Column  Non-Null Count  Dtype \n",
      "---  ------  --------------  ----- \n",
      " 0   Bairro  94 non-null     object\n",
      " 1   rpa     94 non-null     int64 \n",
      "dtypes: int64(1), object(1)\n",
      "memory usage: 1.6+ KB\n"
     ]
    }
   ],
   "source": [
    "bairros_recife.info()"
   ]
  },
  {
   "cell_type": "code",
   "execution_count": 16,
   "metadata": {},
   "outputs": [
    {
     "name": "stdout",
     "output_type": "stream",
     "text": [
      "Index([], dtype='object')\n"
     ]
    }
   ],
   "source": [
    "unique_types = bairros_recife.applymap(type).nunique()\n",
    "\n",
    "mixed_type_columns = unique_types[unique_types>1].index\n",
    "print(mixed_type_columns)"
   ]
  },
  {
   "cell_type": "code",
   "execution_count": 17,
   "metadata": {},
   "outputs": [
    {
     "data": {
      "text/plain": [
       "Bairro    0\n",
       "rpa       0\n",
       "dtype: int64"
      ]
     },
     "execution_count": 17,
     "metadata": {},
     "output_type": "execute_result"
    }
   ],
   "source": [
    "bairros_recife.isnull().sum()"
   ]
  },
  {
   "cell_type": "markdown",
   "metadata": {},
   "source": [
    "#### Tratamento de dados"
   ]
  },
  {
   "cell_type": "code",
   "execution_count": 18,
   "metadata": {},
   "outputs": [],
   "source": [
    "#transformação do campo de bairro em string, sem acentos e maiuculo\n",
    "\n",
    "bairros_recife['Bairro'] = bairros_recife['Bairro'].astype(str).apply(lambda x: unidecode.unidecode(x).upper())\n"
   ]
  },
  {
   "cell_type": "code",
   "execution_count": 19,
   "metadata": {},
   "outputs": [],
   "source": [
    "bairros_recife.columns = bairros_recife.columns.str.upper()\n",
    "df_2019_staging.columns = df_2019_staging.columns.str.upper()"
   ]
  },
  {
   "cell_type": "markdown",
   "metadata": {},
   "source": [
    "### Enriquecimento de dados "
   ]
  },
  {
   "cell_type": "code",
   "execution_count": 20,
   "metadata": {},
   "outputs": [],
   "source": [
    "# acrescentando a coluna RPA e BAIRROS da bairros_recife na stagin de 2019\n",
    "df_2019_staging = pd.merge(df_2019_staging, bairros_recife[['BAIRRO', 'RPA']], on='BAIRRO', how='left')"
   ]
  },
  {
   "cell_type": "code",
   "execution_count": 21,
   "metadata": {},
   "outputs": [
    {
     "data": {
      "text/html": [
       "<div>\n",
       "<style scoped>\n",
       "    .dataframe tbody tr th:only-of-type {\n",
       "        vertical-align: middle;\n",
       "    }\n",
       "\n",
       "    .dataframe tbody tr th {\n",
       "        vertical-align: top;\n",
       "    }\n",
       "\n",
       "    .dataframe thead th {\n",
       "        text-align: right;\n",
       "    }\n",
       "</style>\n",
       "<table border=\"1\" class=\"dataframe\">\n",
       "  <thead>\n",
       "    <tr style=\"text-align: right;\">\n",
       "      <th></th>\n",
       "      <th>DATA</th>\n",
       "      <th>HORA</th>\n",
       "      <th>NATUREZA_ACIDENTE</th>\n",
       "      <th>SITUACAO</th>\n",
       "      <th>BAIRRO</th>\n",
       "      <th>BAIRRO_CRUZAMENTO</th>\n",
       "      <th>AUTO</th>\n",
       "      <th>MOTO</th>\n",
       "      <th>CICLOM</th>\n",
       "      <th>CICLISTA</th>\n",
       "      <th>PEDESTRE</th>\n",
       "      <th>ONIBUS</th>\n",
       "      <th>CAMINHAO</th>\n",
       "      <th>VIATURA</th>\n",
       "      <th>OUTROS</th>\n",
       "      <th>VITIMAS</th>\n",
       "      <th>TEMPO_CLIMA</th>\n",
       "      <th>SINALIZACAO</th>\n",
       "      <th>CONDICAO_VIA</th>\n",
       "      <th>CONSERVACAO_VIA</th>\n",
       "      <th>MAO_DIRECAO</th>\n",
       "      <th>RPA</th>\n",
       "    </tr>\n",
       "  </thead>\n",
       "  <tbody>\n",
       "    <tr>\n",
       "      <th>0</th>\n",
       "      <td>2019-01-01</td>\n",
       "      <td>00:41:00</td>\n",
       "      <td>SEM VÍTIMA</td>\n",
       "      <td>FINALIZADA</td>\n",
       "      <td>IPSEP</td>\n",
       "      <td>IPSEP</td>\n",
       "      <td>2</td>\n",
       "      <td>0</td>\n",
       "      <td>0</td>\n",
       "      <td>0</td>\n",
       "      <td>0</td>\n",
       "      <td>0</td>\n",
       "      <td>0</td>\n",
       "      <td>0</td>\n",
       "      <td>0</td>\n",
       "      <td>0</td>\n",
       "      <td>BOM</td>\n",
       "      <td>PERFEITO ESTADO</td>\n",
       "      <td>SECA</td>\n",
       "      <td>PERFEITO ESTADO</td>\n",
       "      <td>UNICA</td>\n",
       "      <td>6.0</td>\n",
       "    </tr>\n",
       "    <tr>\n",
       "      <th>1</th>\n",
       "      <td>2019-01-01</td>\n",
       "      <td>01:37:00</td>\n",
       "      <td>SEM VÍTIMA</td>\n",
       "      <td>FINALIZADA</td>\n",
       "      <td>BOA VIAGEM</td>\n",
       "      <td>BOA VIAGEM</td>\n",
       "      <td>2</td>\n",
       "      <td>0</td>\n",
       "      <td>0</td>\n",
       "      <td>0</td>\n",
       "      <td>0</td>\n",
       "      <td>0</td>\n",
       "      <td>0</td>\n",
       "      <td>0</td>\n",
       "      <td>0</td>\n",
       "      <td>0</td>\n",
       "      <td>BOM</td>\n",
       "      <td>PERFEITO ESTADO</td>\n",
       "      <td>SECA</td>\n",
       "      <td>PERFEITO ESTADO</td>\n",
       "      <td>UNICA</td>\n",
       "      <td>6.0</td>\n",
       "    </tr>\n",
       "    <tr>\n",
       "      <th>2</th>\n",
       "      <td>2019-01-01</td>\n",
       "      <td>14:20:00</td>\n",
       "      <td>SEM VÍTIMA</td>\n",
       "      <td>CANCELADA</td>\n",
       "      <td>BOA VIAGEM</td>\n",
       "      <td>BOA VIAGEM</td>\n",
       "      <td>2</td>\n",
       "      <td>0</td>\n",
       "      <td>0</td>\n",
       "      <td>0</td>\n",
       "      <td>0</td>\n",
       "      <td>0</td>\n",
       "      <td>0</td>\n",
       "      <td>0</td>\n",
       "      <td>0</td>\n",
       "      <td>0</td>\n",
       "      <td>OUTROS</td>\n",
       "      <td>OUTROS</td>\n",
       "      <td>OUTROS</td>\n",
       "      <td>OUTROS</td>\n",
       "      <td>OUTROS</td>\n",
       "      <td>6.0</td>\n",
       "    </tr>\n",
       "    <tr>\n",
       "      <th>3</th>\n",
       "      <td>2019-01-01</td>\n",
       "      <td>02:53:00</td>\n",
       "      <td>SEM VÍTIMA</td>\n",
       "      <td>CANCELADA</td>\n",
       "      <td>IMBIRIBEIRA</td>\n",
       "      <td>IMBIRIBEIRA</td>\n",
       "      <td>2</td>\n",
       "      <td>0</td>\n",
       "      <td>0</td>\n",
       "      <td>0</td>\n",
       "      <td>0</td>\n",
       "      <td>0</td>\n",
       "      <td>0</td>\n",
       "      <td>0</td>\n",
       "      <td>0</td>\n",
       "      <td>0</td>\n",
       "      <td>OUTROS</td>\n",
       "      <td>OUTROS</td>\n",
       "      <td>OUTROS</td>\n",
       "      <td>OUTROS</td>\n",
       "      <td>OUTROS</td>\n",
       "      <td>6.0</td>\n",
       "    </tr>\n",
       "    <tr>\n",
       "      <th>4</th>\n",
       "      <td>2019-01-01</td>\n",
       "      <td>08:17:00</td>\n",
       "      <td>COM VÍTIMA</td>\n",
       "      <td>FINALIZADA</td>\n",
       "      <td>JAQUEIRA</td>\n",
       "      <td>JAQUEIRA</td>\n",
       "      <td>0</td>\n",
       "      <td>0</td>\n",
       "      <td>0</td>\n",
       "      <td>1</td>\n",
       "      <td>0</td>\n",
       "      <td>1</td>\n",
       "      <td>0</td>\n",
       "      <td>0</td>\n",
       "      <td>0</td>\n",
       "      <td>1</td>\n",
       "      <td>BOM</td>\n",
       "      <td>PERFEITO ESTADO</td>\n",
       "      <td>SECA</td>\n",
       "      <td>PERFEITO ESTADO</td>\n",
       "      <td>UNICA</td>\n",
       "      <td>3.0</td>\n",
       "    </tr>\n",
       "  </tbody>\n",
       "</table>\n",
       "</div>"
      ],
      "text/plain": [
       "        DATA      HORA NATUREZA_ACIDENTE    SITUACAO       BAIRRO  \\\n",
       "0 2019-01-01  00:41:00        SEM VÍTIMA  FINALIZADA        IPSEP   \n",
       "1 2019-01-01  01:37:00        SEM VÍTIMA  FINALIZADA   BOA VIAGEM   \n",
       "2 2019-01-01  14:20:00        SEM VÍTIMA   CANCELADA   BOA VIAGEM   \n",
       "3 2019-01-01  02:53:00        SEM VÍTIMA   CANCELADA  IMBIRIBEIRA   \n",
       "4 2019-01-01  08:17:00        COM VÍTIMA  FINALIZADA     JAQUEIRA   \n",
       "\n",
       "  BAIRRO_CRUZAMENTO  AUTO  MOTO  CICLOM  CICLISTA  PEDESTRE  ONIBUS  CAMINHAO  \\\n",
       "0             IPSEP     2     0       0         0         0       0         0   \n",
       "1        BOA VIAGEM     2     0       0         0         0       0         0   \n",
       "2        BOA VIAGEM     2     0       0         0         0       0         0   \n",
       "3       IMBIRIBEIRA     2     0       0         0         0       0         0   \n",
       "4          JAQUEIRA     0     0       0         1         0       1         0   \n",
       "\n",
       "   VIATURA  OUTROS  VITIMAS TEMPO_CLIMA      SINALIZACAO CONDICAO_VIA  \\\n",
       "0        0       0        0         BOM  PERFEITO ESTADO         SECA   \n",
       "1        0       0        0         BOM  PERFEITO ESTADO         SECA   \n",
       "2        0       0        0      OUTROS           OUTROS       OUTROS   \n",
       "3        0       0        0      OUTROS           OUTROS       OUTROS   \n",
       "4        0       0        1         BOM  PERFEITO ESTADO         SECA   \n",
       "\n",
       "   CONSERVACAO_VIA MAO_DIRECAO  RPA  \n",
       "0  PERFEITO ESTADO       UNICA  6.0  \n",
       "1  PERFEITO ESTADO       UNICA  6.0  \n",
       "2           OUTROS      OUTROS  6.0  \n",
       "3           OUTROS      OUTROS  6.0  \n",
       "4  PERFEITO ESTADO       UNICA  3.0  "
      ]
     },
     "execution_count": 21,
     "metadata": {},
     "output_type": "execute_result"
    }
   ],
   "source": [
    "df_2019_staging.head()"
   ]
  },
  {
   "cell_type": "code",
   "execution_count": 40,
   "metadata": {},
   "outputs": [
    {
     "data": {
      "text/plain": [
       "DATA                 12062\n",
       "HORA                 12062\n",
       "NATUREZA_ACIDENTE    12062\n",
       "SITUACAO             12062\n",
       "BAIRRO               12062\n",
       "BAIRRO_CRUZAMENTO    12062\n",
       "AUTO                 12062\n",
       "MOTO                 12062\n",
       "CICLOM               12062\n",
       "CICLISTA             12062\n",
       "PEDESTRE             12062\n",
       "ONIBUS               12062\n",
       "CAMINHAO             12062\n",
       "VIATURA              12062\n",
       "OUTROS               12062\n",
       "VITIMAS              12062\n",
       "TEMPO_CLIMA          12062\n",
       "SINALIZACAO          12062\n",
       "CONDICAO_VIA         12062\n",
       "CONSERVACAO_VIA      12062\n",
       "MAO_DIRECAO          12062\n",
       "RPA                   9651\n",
       "dtype: int64"
      ]
     },
     "execution_count": 40,
     "metadata": {},
     "output_type": "execute_result"
    }
   ],
   "source": [
    "df_2019_staging.count()"
   ]
  },
  {
   "cell_type": "code",
   "execution_count": 25,
   "metadata": {},
   "outputs": [
    {
     "name": "stdout",
     "output_type": "stream",
     "text": [
      "['ESTÂNCIA' 'BOMBA DO HEMETÉRIO' 'GRAÇAS' 'SÃO JOSÉ' 'SANTO ANTÔNIO'\n",
      " 'TORREÃO' 'POÇO DA PANELA' 'TOTÓ' 'JARDIM SÃO PAULO' 'VÁRZEA' 'HIPÓDROMO'\n",
      " 'BAIRRO DO RECIFE' 'CAXANGÁ' 'OUTROS' 'ALTO JOSÉ BONIFÁCIO' 'JORDÃO'\n",
      " 'ÁGUA FRIA' 'TEJIPIÓ' 'ALTO JOSÉ DO PINHO' 'JIQUIÁ' 'DOIS IRMÃOS'\n",
      " 'TORRÕES' 'MORRO DA CONCEIÇÃO' 'JOANA BEZERRA' 'CÓRREGO DO JENIPAPO'\n",
      " 'CIDADE UNIVERSITÁRIA' 'CAÇOTE' 'SÍTIO DOS PINTOS' 'FUNDÃO'\n",
      " 'ALTO SANTA TERESINHA' 'BRASÍLIA TEIMOSA']\n"
     ]
    }
   ],
   "source": [
    "bairros_faltando = df_2019_staging[~df_2019_staging['BAIRRO'].isin(bairros_recife['BAIRRO'])]['BAIRRO'].unique()\n",
    "print(bairros_faltando)\n"
   ]
  },
  {
   "cell_type": "code",
   "execution_count": 44,
   "metadata": {},
   "outputs": [
    {
     "data": {
      "text/plain": [
       "array(['AFLITOS', 'AFOGADOS', 'AGUA FRIA', 'ALTO DO MANDU',\n",
       "       'ALTO JOSE BONIFACIO', 'ALTO JOSE DO PINHO',\n",
       "       'ALTO SANTA TEREZINHA', 'APIPUCOS', 'AREIAS', 'ARRUDA', 'BARRO',\n",
       "       'BEBERIBE', 'BOA VIAGEM', 'BOA VISTA', 'BOMBA DO HEMETERIO',\n",
       "       'BONGI', 'BRASILIA TEIMOSA', 'BREJO DA GUABIRABA',\n",
       "       'BREJO DE BEBERIBE', 'CABANGA', 'CACOTE', 'CAJUEIRO',\n",
       "       'CAMPINA DO BARRETO', 'CAMPO GRANDE', 'CASA AMARELA', 'CASA FORTE',\n",
       "       'CAXANGA', 'CIDADE UNIVERSITARIA', 'COELHOS', 'COHAB', 'COQUEIRAL',\n",
       "       'CORDEIRO', 'CORREGO DO JENIPAPO', 'CURADO', 'DERBY',\n",
       "       'DOIS IRMAOS', 'DOIS UNIDOS', 'ENCRUZILHADA', 'ENGENHO DO MEIO',\n",
       "       'ESPINHEIRO', 'ESTANCIA', 'FUNDAO', 'GRACAS', 'GUABIRABA',\n",
       "       'HIPODROMO', 'IBURA', 'ILHA DO LEITE', 'ILHA DO RETIRO',\n",
       "       'ILHA JOANA BEZERRA', 'IMBIRIBEIRA', 'IPSEP', 'IPUTINGA',\n",
       "       'JAQUEIRA', 'JARDIM SAO PAULO', 'JIQUIA', 'JORDAO',\n",
       "       'LINHA DO TIRO', 'MACAXEIRA', 'MADALENA', 'MANGABEIRA',\n",
       "       'MANGUEIRA', 'MONTEIRO', 'MORRO DA CONCEICAO', 'MUSTARDINHA',\n",
       "       'NOVA DESCOBERTA', 'PAISSANDU', 'PARNAMIRIM', 'PASSARINHO',\n",
       "       'PAU FERRO', 'PEIXINHOS', 'PINA', 'POCO', 'PONTO DE PARADA',\n",
       "       'PORTO DA MADEIRA', 'PRADO', 'RECIFE', 'ROSARINHO', 'SAN MARTIN',\n",
       "       'SANCHO', 'SANTANA', 'SANTO AMARO', 'SANTO ANTONIO', 'SAO JOSE',\n",
       "       'SITIO DOS PINTOS', 'SOLEDADE', 'TAMARINEIRA', 'TEJIPIO', 'TORRE',\n",
       "       'TORREAO', 'TORROES', 'TOTO', 'VARZEA', 'VASCO DA GAMA', 'ZUMBI'],\n",
       "      dtype=object)"
      ]
     },
     "execution_count": 44,
     "metadata": {},
     "output_type": "execute_result"
    }
   ],
   "source": [
    "bairros_recife['BAIRRO'].unique()"
   ]
  },
  {
   "cell_type": "code",
   "execution_count": 27,
   "metadata": {},
   "outputs": [],
   "source": [
    "# Preencher os valores nulos na coluna 'RPA' com base na relação de bairros e RPAs\n",
    "df_2019_staging['RPA'] = df_2019_staging.apply(\n",
    "    lambda row: bairros_recife.loc[bairros_recife['BAIRRO'] == row['BAIRRO'], 'RPA'].values[0]\n",
    "               if pd.isnull(row['RPA']) and not bairros_recife.loc[bairros_recife['BAIRRO'] == row['BAIRRO'], 'RPA'].empty\n",
    "               else row['RPA'],\n",
    "    axis=1\n",
    ")\n"
   ]
  },
  {
   "cell_type": "code",
   "execution_count": 28,
   "metadata": {},
   "outputs": [
    {
     "data": {
      "text/plain": [
       "DATA                    0\n",
       "HORA                    0\n",
       "NATUREZA_ACIDENTE       0\n",
       "SITUACAO                0\n",
       "BAIRRO                  0\n",
       "BAIRRO_CRUZAMENTO       0\n",
       "AUTO                    0\n",
       "MOTO                    0\n",
       "CICLOM                  0\n",
       "CICLISTA                0\n",
       "PEDESTRE                0\n",
       "ONIBUS                  0\n",
       "CAMINHAO                0\n",
       "VIATURA                 0\n",
       "OUTROS                  0\n",
       "VITIMAS                 0\n",
       "TEMPO_CLIMA             0\n",
       "SINALIZACAO             0\n",
       "CONDICAO_VIA            0\n",
       "CONSERVACAO_VIA         0\n",
       "MAO_DIRECAO             0\n",
       "RPA                  2411\n",
       "dtype: int64"
      ]
     },
     "execution_count": 28,
     "metadata": {},
     "output_type": "execute_result"
    }
   ],
   "source": [
    "df_2019_staging.isnull().sum()"
   ]
  },
  {
   "cell_type": "code",
   "execution_count": 30,
   "metadata": {},
   "outputs": [],
   "source": [
    "# Criar um dicionário de mapeamento entre bairros e RPAs\n",
    "mapeamento_rpa = bairros_recife.set_index('BAIRRO')['RPA'].to_dict()\n",
    "\n",
    "# Preencher os valores nulos na coluna 'RPA' usando o mapeamento\n",
    "df_2019_staging['RPA'] = df_2019_staging['BAIRRO'].map(mapeamento_rpa).fillna(df_2019_staging['RPA'])"
   ]
  },
  {
   "cell_type": "code",
   "execution_count": 31,
   "metadata": {},
   "outputs": [
    {
     "data": {
      "text/plain": [
       "DATA                    0\n",
       "HORA                    0\n",
       "NATUREZA_ACIDENTE       0\n",
       "SITUACAO                0\n",
       "BAIRRO                  0\n",
       "BAIRRO_CRUZAMENTO       0\n",
       "AUTO                    0\n",
       "MOTO                    0\n",
       "CICLOM                  0\n",
       "CICLISTA                0\n",
       "PEDESTRE                0\n",
       "ONIBUS                  0\n",
       "CAMINHAO                0\n",
       "VIATURA                 0\n",
       "OUTROS                  0\n",
       "VITIMAS                 0\n",
       "TEMPO_CLIMA             0\n",
       "SINALIZACAO             0\n",
       "CONDICAO_VIA            0\n",
       "CONSERVACAO_VIA         0\n",
       "MAO_DIRECAO             0\n",
       "RPA                  2411\n",
       "dtype: int64"
      ]
     },
     "execution_count": 31,
     "metadata": {},
     "output_type": "execute_result"
    }
   ],
   "source": [
    "df_2019_staging.isnull().sum()\n"
   ]
  },
  {
   "cell_type": "code",
   "execution_count": 32,
   "metadata": {},
   "outputs": [],
   "source": [
    "# Remover a coluna 'RPA' temporariamente para evitar confusões\n",
    "df_2019_staging = df_2019_staging.drop(columns=['RPA'])\n",
    "\n",
    "# Merge entre as tabelas usando a coluna 'BAIRRO'\n",
    "df_2019_staging = pd.merge(df_2019_staging, bairros_recife[['BAIRRO', 'RPA']], on='BAIRRO', how='left')\n",
    "\n",
    "# Preencher os valores nulos na coluna 'RPA'\n",
    "df_2019_staging['RPA'].fillna(df_2019_staging['RPA'], inplace=True)"
   ]
  },
  {
   "cell_type": "code",
   "execution_count": 33,
   "metadata": {},
   "outputs": [
    {
     "data": {
      "text/plain": [
       "DATA                    0\n",
       "HORA                    0\n",
       "NATUREZA_ACIDENTE       0\n",
       "SITUACAO                0\n",
       "BAIRRO                  0\n",
       "BAIRRO_CRUZAMENTO       0\n",
       "AUTO                    0\n",
       "MOTO                    0\n",
       "CICLOM                  0\n",
       "CICLISTA                0\n",
       "PEDESTRE                0\n",
       "ONIBUS                  0\n",
       "CAMINHAO                0\n",
       "VIATURA                 0\n",
       "OUTROS                  0\n",
       "VITIMAS                 0\n",
       "TEMPO_CLIMA             0\n",
       "SINALIZACAO             0\n",
       "CONDICAO_VIA            0\n",
       "CONSERVACAO_VIA         0\n",
       "MAO_DIRECAO             0\n",
       "RPA                  2411\n",
       "dtype: int64"
      ]
     },
     "execution_count": 33,
     "metadata": {},
     "output_type": "execute_result"
    }
   ],
   "source": [
    "df_2019_staging.isnull().sum()\n"
   ]
  },
  {
   "cell_type": "code",
   "execution_count": 34,
   "metadata": {},
   "outputs": [],
   "source": [
    "# Criar um dicionário de mapeamento entre bairros e RPAs\n",
    "mapeamento_rpa = bairros_recife.set_index('BAIRRO')['RPA'].to_dict()\n",
    "\n",
    "# Preencher os valores nulos na coluna 'RPA' usando o mapeamento\n",
    "df_2019_staging['RPA'] = df_2019_staging['BAIRRO'].apply(lambda x: mapeamento_rpa.get(x, pd.NA))\n",
    "\n",
    "# Preencher valores NA com os valores originais da coluna 'RPA'\n",
    "df_2019_staging['RPA'].fillna(df_2019_staging['RPA'], inplace=True)"
   ]
  },
  {
   "cell_type": "code",
   "execution_count": 35,
   "metadata": {},
   "outputs": [
    {
     "data": {
      "text/plain": [
       "DATA                    0\n",
       "HORA                    0\n",
       "NATUREZA_ACIDENTE       0\n",
       "SITUACAO                0\n",
       "BAIRRO                  0\n",
       "BAIRRO_CRUZAMENTO       0\n",
       "AUTO                    0\n",
       "MOTO                    0\n",
       "CICLOM                  0\n",
       "CICLISTA                0\n",
       "PEDESTRE                0\n",
       "ONIBUS                  0\n",
       "CAMINHAO                0\n",
       "VIATURA                 0\n",
       "OUTROS                  0\n",
       "VITIMAS                 0\n",
       "TEMPO_CLIMA             0\n",
       "SINALIZACAO             0\n",
       "CONDICAO_VIA            0\n",
       "CONSERVACAO_VIA         0\n",
       "MAO_DIRECAO             0\n",
       "RPA                  2411\n",
       "dtype: int64"
      ]
     },
     "execution_count": 35,
     "metadata": {},
     "output_type": "execute_result"
    }
   ],
   "source": [
    "df_2019_staging.isnull().sum()"
   ]
  },
  {
   "cell_type": "code",
   "execution_count": 36,
   "metadata": {},
   "outputs": [],
   "source": [
    "# Criar um dicionário de mapeamento entre bairros e RPAs\n",
    "mapeamento_rpa = dict(zip(bairros_recife['BAIRRO'], bairros_recife['RPA']))\n",
    "\n",
    "# Preencher os valores nulos na coluna 'RPA' usando o mapeamento\n",
    "df_2019_staging['RPA'] = df_2019_staging['BAIRRO'].map(mapeamento_rpa)\n",
    "\n",
    "# Preencher valores NA com os valores originais da coluna 'RPA'\n",
    "df_2019_staging['RPA'].fillna(df_2019_staging['RPA'], inplace=True)\n"
   ]
  },
  {
   "cell_type": "code",
   "execution_count": 37,
   "metadata": {},
   "outputs": [
    {
     "data": {
      "text/plain": [
       "2411"
      ]
     },
     "execution_count": 37,
     "metadata": {},
     "output_type": "execute_result"
    }
   ],
   "source": [
    "df_2019_staging['RPA'].isnull().sum()\n"
   ]
  }
 ],
 "metadata": {
  "kernelspec": {
   "display_name": "Python 3",
   "language": "python",
   "name": "python3"
  },
  "language_info": {
   "codemirror_mode": {
    "name": "ipython",
    "version": 3
   },
   "file_extension": ".py",
   "mimetype": "text/x-python",
   "name": "python",
   "nbconvert_exporter": "python",
   "pygments_lexer": "ipython3",
   "version": "3.9.12"
  }
 },
 "nbformat": 4,
 "nbformat_minor": 2
}
