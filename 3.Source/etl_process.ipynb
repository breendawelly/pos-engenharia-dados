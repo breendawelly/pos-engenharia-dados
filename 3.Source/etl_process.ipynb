{
 "cells": [
  {
   "cell_type": "markdown",
   "metadata": {},
   "source": [
    "## <center> ETL Process - Acidentes de Transito em Recife  <br> <small>\n",
    "##### adicionar um resumo"
   ]
  },
  {
   "cell_type": "markdown",
   "metadata": {},
   "source": [
    "#### Código"
   ]
  },
  {
   "cell_type": "code",
   "execution_count": 9,
   "metadata": {},
   "outputs": [],
   "source": [
    "# Importaçoes\n",
    "import pandas as pd \n",
    "import numpy as np "
   ]
  },
  {
   "cell_type": "markdown",
   "metadata": {},
   "source": [
    "### Leitura dos dados <br> <small> Nessa seção, estaremos realizando a leitura dos dados brutos relacionados a acidentes de transitos na cidade do Recife-Pernambuco"
   ]
  },
  {
   "cell_type": "code",
   "execution_count": 10,
   "metadata": {},
   "outputs": [],
   "source": [
    "df_2019 = pd.read_csv(\"http://dados.recife.pe.gov.br/dataset/44087d2d-73b5-4ab3-9bd8-78da7436eed1/resource/3531bafe-d47d-415e-b154-a881081ac76c/download/acidentes-2019.csv\", delimiter=\";\")\n",
    "df_2020 = pd.read_csv(\"http://dados.recife.pe.gov.br/dataset/44087d2d-73b5-4ab3-9bd8-78da7436eed1/resource/fc1c8460-0406-4fff-b51a-e79205d1f1ab/download/acidentes_2020-novo.csv\", delimiter=\";\")\n",
    "df_2021 = pd.read_csv(\"http://dados.recife.pe.gov.br/dataset/44087d2d-73b5-4ab3-9bd8-78da7436eed1/resource/2caa8f41-ccd9-4ea5-906d-f66017d6e107/download/acidentes2021.csv\", delimiter=\";\")\n",
    "df_2022 = pd.read_csv(\"http://dados.recife.pe.gov.br/dataset/44087d2d-73b5-4ab3-9bd8-78da7436eed1/resource/971e0228-fa9c-4a42-b360-c842b29d2f56/download/acidentes2022.csv\", delimiter=\";\")"
   ]
  },
  {
   "cell_type": "markdown",
   "metadata": {},
   "source": [
    "### Análise Exploratoria <br> <small> Vamos explorar os dados para entender melhor sua estrutura de conteudo."
   ]
  },
  {
   "cell_type": "code",
   "execution_count": 11,
   "metadata": {},
   "outputs": [
    {
     "name": "stdout",
     "output_type": "stream",
     "text": [
      "<class 'pandas.core.frame.DataFrame'>\n",
      "RangeIndex: 12062 entries, 0 to 12061\n",
      "Data columns (total 41 columns):\n",
      " #   Column                     Non-Null Count  Dtype  \n",
      "---  ------                     --------------  -----  \n",
      " 0   DATA                       12062 non-null  object \n",
      " 1   hora                       12046 non-null  object \n",
      " 2   natureza_acidente          12058 non-null  object \n",
      " 3   situacao                   12058 non-null  object \n",
      " 4   bairro                     11914 non-null  object \n",
      " 5   endereco                   12009 non-null  object \n",
      " 6   numero                     6013 non-null   object \n",
      " 7   detalhe_endereco_acidente  4308 non-null   object \n",
      " 8   complemento                9609 non-null   object \n",
      " 9   endereco_cruzamento        12002 non-null  object \n",
      " 10  numero_cruzamento          6011 non-null   object \n",
      " 11  referencia_cruzamento      9606 non-null   object \n",
      " 12  bairro_cruzamento          11909 non-null  object \n",
      " 13  num_semaforo               3029 non-null   float64\n",
      " 14  sentido_via                8293 non-null   object \n",
      " 15  tipo                       12062 non-null  object \n",
      " 16  descricao                  11762 non-null  object \n",
      " 17  auto                       11140 non-null  float64\n",
      " 18  moto                       2904 non-null   float64\n",
      " 19  ciclom                     48 non-null     float64\n",
      " 20  ciclista                   224 non-null    float64\n",
      " 21  pedestre                   255 non-null    float64\n",
      " 22  onibus                     1811 non-null   float64\n",
      " 23  caminhao                   1224 non-null   float64\n",
      " 24  viatura                    122 non-null    float64\n",
      " 25  outros                     210 non-null    float64\n",
      " 26  vitimas                    12035 non-null  float64\n",
      " 27  vitimasfatais              25 non-null     float64\n",
      " 28  acidente_verificado        9191 non-null   object \n",
      " 29  tempo_clima                9706 non-null   object \n",
      " 30  situacao_semaforo          9581 non-null   object \n",
      " 31  sinalizacao                9524 non-null   object \n",
      " 32  condicao_via               9673 non-null   object \n",
      " 33  conservacao_via            9525 non-null   object \n",
      " 34  ponto_controle             8670 non-null   object \n",
      " 35  situacao_placa             8733 non-null   object \n",
      " 36  velocidade_max_via         2858 non-null   object \n",
      " 37  mao_direcao                9522 non-null   object \n",
      " 38  divisao_via1               9130 non-null   object \n",
      " 39  divisao_via2               908 non-null    object \n",
      " 40  divisao_via3               150 non-null    object \n",
      "dtypes: float64(12), object(29)\n",
      "memory usage: 3.8+ MB\n"
     ]
    }
   ],
   "source": [
    "# permitir que todas as colunas dessa base sejam visualizadas\n",
    "pd.set_option('display.max_columns', None)\n",
    "\n",
    "#leitura da base de 2019\n",
    "df_2019.head() \n"
   ]
  },
  {
   "cell_type": "code",
   "execution_count": null,
   "metadata": {},
   "outputs": [],
   "source": [
    "\n",
    "#leitura de informações por coluna e tipo de dados\n",
    "df_2019.info()"
   ]
  },
  {
   "cell_type": "code",
   "execution_count": 12,
   "metadata": {},
   "outputs": [],
   "source": [
    "colunas_selecionadas_2019 = [ \"DATA\", \"hora\", \"natureza_acidente\",\"situacao\",\"bairro\",\"bairro_cruzamento\", \"auto\", \"moto\", \"ciclom\",\t\"ciclista\",\t\"pedestre\",\t\"onibus\",\t\"caminhao\",\t\"viatura\",\t\"outros\",\t\"vitimas\", \"tempo_clima\",\"sinalizacao\",\t\"condicao_via\",\t\"conservacao_via\",\"mao_direcao\" ]\n",
    "\n",
    "df_2019_spec = df_2019[colunas_selecionadas_2019]"
   ]
  },
  {
   "cell_type": "code",
   "execution_count": 13,
   "metadata": {},
   "outputs": [
    {
     "name": "stdout",
     "output_type": "stream",
     "text": [
      "Index(['hora', 'natureza_acidente', 'situacao', 'bairro', 'bairro_cruzamento',\n",
      "       'tempo_clima', 'sinalizacao', 'condicao_via', 'conservacao_via',\n",
      "       'mao_direcao'],\n",
      "      dtype='object')\n"
     ]
    }
   ],
   "source": [
    "# Aplica uma função para verificar os tipos únicos em cada coluna\n",
    "unique_types = df_2019_spec.applymap(type).nunique()\n",
    "\n",
    "\n",
    "# Exibe as colunas com mais de um tipo único\n",
    "mixed_type_columns = unique_types[unique_types >1].index\n",
    "print(mixed_type_columns)"
   ]
  },
  {
   "cell_type": "markdown",
   "metadata": {},
   "source": [
    "### tratamento de dados"
   ]
  },
  {
   "cell_type": "code",
   "execution_count": null,
   "metadata": {},
   "outputs": [],
   "source": [
    "valores_nulos = {\"hora\": '00:00', \"natureza_acidente\":'OUTROS', \"situacao\":'OUTROS',\"bairro\":'OUTROS',\"bairro_cruzamento\":'OUTROS', \"auto\":'0', \"moto\":'0', \"ciclom\":'0', \"ciclista\":'0',\t\"pedestre\":'0',\"onibus\":'0', \"caminhao\":'0', \"viatura\":'0',\t\"outros\":'0', \"vitimas\":'0', \"tempo_clima\":'OUTROS',\"sinalizacao\":'OUTROS',\t\"condicao_via\":'OUTROS',\t\"conservacao_via\":'OUTROS',\"mao_direcao\":'OUTROS'  }\n",
    "\n",
    "df_2019_spec = df_2019_spec.fillna(valores_nulos)"
   ]
  },
  {
   "cell_type": "code",
   "execution_count": null,
   "metadata": {},
   "outputs": [],
   "source": [
    "# tratamento de tipos de dados\n",
    "\n",
    "df_2019_spec['DATA'] = pd.to_datetime(df_2019_spec['DATA'])"
   ]
  },
  {
   "cell_type": "code",
   "execution_count": null,
   "metadata": {},
   "outputs": [],
   "source": [
    "# convertendo colunas para str\n",
    "str_columns = ['hora', 'natureza_acidente', 'situacao', 'bairro', 'bairro_cruzamento', 'tempo_clima', 'sinalizacao', 'condicao_via','conservacao_via', 'mao_direcao']\n",
    "df_2019_spec['mao_direcao'] = df_2019_spec['mao_direcao'].astype(str).apply(lambda x:unidecode.unidecode(x))\n",
    "df_2019_spec[str_columns] = df_2019_spec[str_columns].astype(str).apply(lambda x: x.str.upper())"
   ]
  },
  {
   "cell_type": "code",
   "execution_count": null,
   "metadata": {},
   "outputs": [],
   "source": [
    "# Convertendo colunas para inteiros\n",
    "int_columns = ['auto', 'moto', 'ciclom', 'ciclista', 'pedestre', 'onibus', 'caminhao', 'viatura', 'outros', 'vitimas']\n",
    "df_2019_spec[int_columns] = df_2019_spec[int_columns].fillna(0).astype(int)"
   ]
  }
 ],
 "metadata": {
  "kernelspec": {
   "display_name": "Python 3",
   "language": "python",
   "name": "python3"
  },
  "language_info": {
   "codemirror_mode": {
    "name": "ipython",
    "version": 3
   },
   "file_extension": ".py",
   "mimetype": "text/x-python",
   "name": "python",
   "nbconvert_exporter": "python",
   "pygments_lexer": "ipython3",
   "version": "3.9.12"
  }
 },
 "nbformat": 4,
 "nbformat_minor": 2
}
