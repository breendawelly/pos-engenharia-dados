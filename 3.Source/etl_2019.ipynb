{
 "cells": [
  {
   "cell_type": "code",
   "execution_count": null,
   "metadata": {},
   "outputs": [],
   "source": [
    "import pandas as pd\n",
    "import unidecode as unidecode"
   ]
  },
  {
   "cell_type": "code",
   "execution_count": null,
   "metadata": {},
   "outputs": [],
   "source": [
    "#Bases de acidentes de transito\n",
    "df_2019 = pd.read_csv(\"http://dados.recife.pe.gov.br/dataset/44087d2d-73b5-4ab3-9bd8-78da7436eed1/resource/3531bafe-d47d-415e-b154-a881081ac76c/download/acidentes-2019.csv\", delimiter=\";\")"
   ]
  },
  {
   "cell_type": "code",
   "execution_count": null,
   "metadata": {},
   "outputs": [],
   "source": [
    "# permitir que todas as colunas dessa base sejam visualizadas\n",
    "pd.set_option('display.max_columns', None)\n",
    "\n",
    "#leitura da base de 2019\n",
    "df_2019.head() \n"
   ]
  },
  {
   "cell_type": "code",
   "execution_count": null,
   "metadata": {},
   "outputs": [],
   "source": [
    "\n",
    "#leitura de informações por coluna e tipo de dados\n",
    "df_2019.info()"
   ]
  },
  {
   "cell_type": "code",
   "execution_count": null,
   "metadata": {},
   "outputs": [],
   "source": [
    "# Colunas selecionadas para o estudo na base de 2019\n",
    "colunas_selecionadas_2019 = [ \"DATA\", \"hora\", \"natureza_acidente\",\"situacao\",\"bairro\", \"auto\", \"moto\", \"ciclom\",\t\"ciclista\",\t\"pedestre\",\t\"onibus\",\t\"caminhao\",\t\"viatura\",\t\"outros\",\t\"vitimas\", \"tempo_clima\",\"sinalizacao\",\t\"condicao_via\",\t\"conservacao_via\",\"mao_direcao\" ]\n",
    "\n",
    "df_2019_sot = df_2019[colunas_selecionadas_2019]"
   ]
  },
  {
   "cell_type": "code",
   "execution_count": null,
   "metadata": {},
   "outputs": [],
   "source": [
    "#Tratamento para valores nulos \n",
    "valores_nulos_2019 = {\"hora\": '00:00', \"natureza_acidente\":'OUTROS', \"situacao\":'OUTROS',\"bairro\":'OUTROS', \"auto\":'0', \"moto\":'0', \"ciclom\":'0', \"ciclista\":'0',\t\"pedestre\":'0',\"onibus\":'0', \"caminhao\":'0', \"viatura\":'0',\t\"outros\":'0', \"vitimas\":'0', \"tempo_clima\":'OUTROS',\"sinalizacao\":'OUTROS',\t\"condicao_via\":'OUTROS',\t\"conservacao_via\":'OUTROS',\"mao_direcao\":'OUTROS'  }\n",
    "\n",
    "df_2019_sot = df_2019_sot.fillna(valores_nulos_2019)"
   ]
  },
  {
   "cell_type": "code",
   "execution_count": null,
   "metadata": {},
   "outputs": [],
   "source": [
    "# Convertendo colunas para inteiros\n",
    "int_columns_2019 = ['auto', 'moto', 'ciclom', 'ciclista', 'pedestre', 'onibus', 'caminhao', 'viatura', 'outros', 'vitimas']\n",
    "df_2019_sot[int_columns_2019] = df_2019_sot[int_columns_2019].fillna(0).astype(int)"
   ]
  },
  {
   "cell_type": "code",
   "execution_count": null,
   "metadata": {},
   "outputs": [],
   "source": [
    "# tratamento de mudar o tipo de dado do campo DATA\n",
    "\n",
    "df_2019_sot['DATA'] = pd.to_datetime(df_2019_sot['DATA'])"
   ]
  },
  {
   "cell_type": "code",
   "execution_count": null,
   "metadata": {},
   "outputs": [],
   "source": [
    "df_2019_sot.columns = df_2019_sot.columns.str.upper()"
   ]
  },
  {
   "cell_type": "code",
   "execution_count": null,
   "metadata": {},
   "outputs": [],
   "source": [
    "df_2019_sot.head()"
   ]
  }
 ],
 "metadata": {
  "kernelspec": {
   "display_name": "Python 3",
   "language": "python",
   "name": "python3"
  },
  "language_info": {
   "codemirror_mode": {
    "name": "ipython",
    "version": 3
   },
   "file_extension": ".py",
   "mimetype": "text/x-python",
   "name": "python",
   "nbconvert_exporter": "python",
   "pygments_lexer": "ipython3",
   "version": "3.9.12"
  }
 },
 "nbformat": 4,
 "nbformat_minor": 2
}
