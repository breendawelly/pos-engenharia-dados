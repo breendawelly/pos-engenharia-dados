{
 "cells": [
  {
   "cell_type": "code",
   "execution_count": 1,
   "metadata": {},
   "outputs": [],
   "source": [
    "# Importaçoes\n",
    "import pandas as pd \n",
    "import numpy as np \n",
    "import unidecode \n",
    "import os\n",
    "import csv"
   ]
  },
  {
   "cell_type": "code",
   "execution_count": 2,
   "metadata": {},
   "outputs": [],
   "source": [
    "#Bases de acidentes de transito\n",
    "df_2019 = pd.read_csv(\"http://dados.recife.pe.gov.br/dataset/44087d2d-73b5-4ab3-9bd8-78da7436eed1/resource/3531bafe-d47d-415e-b154-a881081ac76c/download/acidentes-2019.csv\", delimiter=\";\")\n",
    "df_2020 = pd.read_csv(\"http://dados.recife.pe.gov.br/dataset/44087d2d-73b5-4ab3-9bd8-78da7436eed1/resource/fc1c8460-0406-4fff-b51a-e79205d1f1ab/download/acidentes_2020-novo.csv\", delimiter=\";\")\n",
    "df_2021 = pd.read_csv(\"http://dados.recife.pe.gov.br/dataset/44087d2d-73b5-4ab3-9bd8-78da7436eed1/resource/2caa8f41-ccd9-4ea5-906d-f66017d6e107/download/acidentes2021.csv\", delimiter=\";\")\n",
    "df_2022 = pd.read_csv(\"http://dados.recife.pe.gov.br/dataset/44087d2d-73b5-4ab3-9bd8-78da7436eed1/resource/971e0228-fa9c-4a42-b360-c842b29d2f56/download/acidentes2022.csv\", delimiter=\";\")\n",
    "\n",
    "#Base com codigos dos bairros do Recife\n",
    "bairros_recife = pd.read_csv(\"http://dados.recife.pe.gov.br/dataset/c1f100f0-f56f-4dd4-9dcc-1aa4da28798a/resource/698d8fe1-d30a-485f-8d5d-307d46163d0c/download/bairro.csv\", delimiter=\";\")\n",
    "\n",
    "# Base de relação dos codigos RPA e regiao dos bairros do recife\n",
    "regiao = pd.read_csv(\"rpa_regiao_mapping.csv\", delimiter=\",\")"
   ]
  },
  {
   "cell_type": "code",
   "execution_count": 3,
   "metadata": {},
   "outputs": [],
   "source": [
    "# TRATAMENTOS 2019\n",
    "\n",
    "# Colunas selecionadas para o estudo na base de 2019\n",
    "colunas_selecionadas_2019 = [ \"DATA\", \"hora\", \"natureza_acidente\",\"situacao\",\"bairro\", \"auto\", \"moto\", \"ciclom\",\t\"ciclista\",\t\"pedestre\",\t\"onibus\",\t\"caminhao\",\t\"viatura\",\t\"outros\",\t\"vitimas\", \"tempo_clima\",\"sinalizacao\",\t\"condicao_via\",\t\"conservacao_via\",\"mao_direcao\" ]\n",
    "\n",
    "df_2019_sot = df_2019[colunas_selecionadas_2019]\n",
    "\n",
    "#Tratamento para valores nulos \n",
    "valores_nulos_2019 = {\"hora\": '00:00', \"natureza_acidente\":'OUTROS', \"situacao\":'OUTROS',\"bairro\":'OUTROS', \"auto\":'0', \"moto\":'0', \"ciclom\":'0', \"ciclista\":'0',\t\"pedestre\":'0',\"onibus\":'0', \"caminhao\":'0', \"viatura\":'0',\t\"outros\":'0', \"vitimas\":'0', \"tempo_clima\":'OUTROS',\"sinalizacao\":'OUTROS',\t\"condicao_via\":'OUTROS',\t\"conservacao_via\":'OUTROS',\"mao_direcao\":'OUTROS'  }\n",
    "\n",
    "df_2019_sot = df_2019_sot.fillna(valores_nulos_2019)\n",
    "\n",
    "# Convertendo colunas para inteiros\n",
    "int_columns_2019 = ['auto', 'moto', 'ciclom', 'ciclista', 'pedestre', 'onibus', 'caminhao', 'viatura', 'outros', 'vitimas']\n",
    "df_2019_sot[int_columns_2019] = df_2019_sot[int_columns_2019].fillna(0).astype(int)\n",
    "\n",
    "# tratamento de mudar o tipo de dado do campo DATA\n",
    "df_2019_sot['DATA'] = pd.to_datetime(df_2019_sot['DATA'])\n",
    "\n",
    "#Deixando todas as colunas em maiusculo\n",
    "df_2019_sot.columns = df_2019_sot.columns.str.upper()\n"
   ]
  },
  {
   "cell_type": "code",
   "execution_count": 4,
   "metadata": {},
   "outputs": [],
   "source": [
    "# TRATAMENTOS 2020\n",
    "\n",
    "# Colunas selecionadas para o estudo na base de 2020\n",
    "colunas_selecionadas_2020 = ['data', 'hora', 'natureza_acidente', 'situacao', 'bairro', 'tipo', 'auto', 'moto', 'ciclom', 'ciclista', 'pedestre', 'onibus', 'caminhao', 'viatura', 'outros', 'vitimas', 'acidente_verificado', 'tempo_clima', 'sinalizacao', 'condicao_via', 'conservacao_via', 'mao_direcao']\n",
    "\n",
    "df_2020_sot = df_2020[colunas_selecionadas_2020]\n",
    "\n",
    "#Tratamento para valores nulos \n",
    "valores_nulos = { \"natureza_acidente\":'OUTROS', \"situacao\":'OUTROS',\"bairro\":'OUTROS', \"auto\":'0', \"moto\":'0', \"ciclom\":'0', \"ciclista\":'0',\t\"pedestre\":'0',\"onibus\":'0', \"caminhao\":'0', \"viatura\":'0',\t\"outros\":'0', \"vitimas\":'0', \"tempo_clima\":'OUTROS',\"sinalizacao\":'OUTROS',\t\"condicao_via\":'OUTROS', \"acidente_verificado\":'Outros'\t,\"conservacao_via\":'OUTROS',\"mao_direcao\":'OUTROS'}\n",
    "df_2020_sot = df_2020_sot.fillna(valores_nulos)\n",
    "\n",
    "# Convertendo colunas para inteiros\n",
    "int_columns = ['auto', 'moto', 'ciclom', 'ciclista', 'pedestre', 'onibus', 'caminhao', 'viatura', 'outros', 'vitimas']\n",
    "df_2020_sot[int_columns] = df_2020_sot[int_columns].fillna(0).astype(int)\n",
    "\n",
    "# Convertendo colunas para string\n",
    "str_columns = ['hora', 'natureza_acidente', 'situacao', 'bairro', 'tipo', 'tempo_clima', 'condicao_via', 'conservacao_via', 'mao_direcao']\n",
    "df_2020_sot[str_columns] = df_2020_sot[str_columns].astype(str).apply(lambda x: x.str.upper())\n",
    "\n",
    "# tratamento de mudar o tipo de dado do campo DATA\n",
    "df_2020_sot['data'] = pd.to_datetime(df_2020_sot['data'])\n",
    "\n",
    "#Deixando todas as colunas em maiusculo\n",
    "df_2020_sot.columns = df_2020_sot.columns.str.upper()"
   ]
  },
  {
   "cell_type": "code",
   "execution_count": 5,
   "metadata": {},
   "outputs": [],
   "source": [
    "# TRATAMENTOS 2021\n",
    "\n",
    "# Colunas selecionadas para o estudo na base de 2021\n",
    "colunas_selecionadas_2021 = ['data', 'hora', 'natureza_acidente', 'situacao', 'bairro', 'tipo', 'auto', 'moto', 'ciclom', 'ciclista', 'pedestre', 'onibus', 'caminhao', 'viatura', 'outros', 'vitimas', 'acidente_verificado', 'tempo_clima', 'sinalizacao', 'condicao_via', 'conservacao_via', 'mao_direcao']\n",
    "\n",
    "df_2021_sot = df_2021[colunas_selecionadas_2021]\n",
    "\n",
    "#Tratamento para valores nulos \n",
    "valores_nulos_2021 = {\"bairro\":'OUTROS', \"tipo\":'OUTROS',\"acidente_verificado\":'Outros',\t\"tempo_clima\":'OUTROS',\"sinalizacao\":'OUTROS',\t\"condicao_via\":'Outros',\"conservacao_via\":'OUTROS',\"mao_direcao\":'OUTROS'}\n",
    "\n",
    "df_2021_sot = df_2021_sot.fillna(valores_nulos_2021)\n",
    "\n",
    "# Convertendo colunas para inteiros\n",
    "int_columns_2021 = ['auto', 'moto', 'ciclom', 'ciclista', 'pedestre', 'onibus', 'caminhao', 'viatura', 'outros', 'vitimas']\n",
    "df_2021_sot[int_columns_2021] = df_2021_sot[int_columns_2021].fillna(0).astype(int)\n",
    "\n",
    "# Convertendo colunas para string\n",
    "str_columns_2021 = ['hora', 'natureza_acidente', 'situacao', 'bairro', 'tipo', 'tempo_clima', 'condicao_via', 'conservacao_via', 'mao_direcao']\n",
    "df_2021_sot[str_columns_2021] = df_2021_sot[str_columns_2021].astype(str).apply(lambda x: x.str.upper())\n",
    "\n",
    "# tratamento de mudar o tipo de dado do campo DATA\n",
    "df_2021_sot['data'] = pd.to_datetime(df_2021_sot['data'])\n",
    "\n",
    "#Deixando todas as colunas em maiusculo\n",
    "df_2021_sot.columns = df_2021_sot.columns.str.upper()"
   ]
  },
  {
   "cell_type": "code",
   "execution_count": 6,
   "metadata": {},
   "outputs": [],
   "source": [
    "# tratamento 2022\n",
    "\n",
    "# Colunas selecionadas para o estudo na base de 2022\n",
    "colunas_selecionadas_2022 = ['data', 'hora', 'natureza', 'situacao', 'bairro', 'tipo', 'auto', 'moto', 'ciclom', 'ciclista', 'pedestre', 'onibus', 'caminhao', 'viatura', 'outros', 'vitimas', 'acidente_verificado', 'tempo_clima', 'sinalizacao', 'condicao_via', 'conservacao_via', 'mao_direcao']\n",
    "df_2022_sot = df_2022[colunas_selecionadas_2022]\n",
    "\n",
    "#Tratamento para valores nulos \n",
    "valores_nulos_2022 = {\"bairro\":'OUTROS', \"tipo\":'OUTROS', \"tempo_clima\":'OUTROS', \"sinalizacao\":'OUTROS', \"condicao_via\":'Outros',\"conservacao_via\":'OUTROS',\"mao_direcao\":'OUTROS', \"acidente_verificado\":'Outros'}\n",
    "\n",
    "df_2022_sot = df_2022_sot.fillna(valores_nulos_2022)\n",
    "\n",
    "# Convertendo colunas para inteiros\n",
    "    # Lista de colunas que você deseja converter para inteiros\n",
    "int_columns_2022 = ['auto', 'moto', 'ciclom', 'ciclista', 'pedestre', 'onibus', 'caminhao', 'viatura', 'outros', 'vitimas']\n",
    "\n",
    "    # Substituir vírgulas por pontos e converter para float\n",
    "df_2022_sot[int_columns_2022] = df_2022_sot[int_columns_2022].replace(',', '.', regex=True).astype(float)\n",
    "\n",
    "    # Converter para inteiros\n",
    "df_2022_sot[int_columns_2022] = df_2022_sot[int_columns_2022].fillna(0).astype(int)\n",
    "\n",
    "# Convertendo colunas para string\n",
    "str_columns_2022 = ['hora', 'natureza', 'situacao', 'bairro', 'tipo', 'tempo_clima', 'condicao_via', 'conservacao_via', 'mao_direcao']\n",
    "\n",
    "df_2022_sot[str_columns_2022] = df_2022_sot[str_columns_2022].astype(str).apply(lambda x: x.str.upper())\n",
    "\n",
    "# tratamento de mudar o tipo de dado do campo DATA\n",
    "df_2022_sot['data'] = pd.to_datetime(df_2022_sot['data'])\n",
    "\n",
    "#Mudança do nome do campo natureza para natureza_acidente\n",
    "df_2022_sot = df_2022_sot.rename(columns={'natureza': 'natureza_acidente'})\n",
    "\n",
    "#no campo acidente_verificado onde tiver nao informado transformar para outros\n",
    "df_2022_sot['acidente_verificado'] = df_2022_sot['acidente_verificado'].replace('Não informado', 'OUTROS')\n",
    "\n",
    "#Deixando todas as colunas em maiusculo\n",
    "df_2022_sot.columns = df_2022_sot.columns.str.upper()"
   ]
  },
  {
   "cell_type": "code",
   "execution_count": 7,
   "metadata": {},
   "outputs": [],
   "source": [
    "# TRATAMENTO BAIRROS-RECIFE\n",
    "\n",
    "#transformação do campo de bairro em string, sem acentos e maiuculo\n",
    "bairros_recife['Bairro'] = bairros_recife['Bairro'].astype(str).apply(lambda x: unidecode.unidecode(x).upper())\n",
    "\n",
    "#Deixando todas as colunas em maiusculo\n",
    "bairros_recife.columns = bairros_recife.columns.str.upper()"
   ]
  },
  {
   "cell_type": "markdown",
   "metadata": {},
   "source": [
    "### Concatenação de todas as bases"
   ]
  },
  {
   "cell_type": "code",
   "execution_count": 8,
   "metadata": {},
   "outputs": [],
   "source": [
    "# Crie uma lista com os DataFrames\n",
    "dfs = [df_2019_sot, df_2020_sot, df_2021_sot, df_2022_sot]\n",
    "\n",
    "# Use a função concat para empilhar verticalmente os DataFrames\n",
    "df_total = pd.concat(dfs, ignore_index=True)"
   ]
  },
  {
   "cell_type": "code",
   "execution_count": 9,
   "metadata": {},
   "outputs": [
    {
     "name": "stdout",
     "output_type": "stream",
     "text": [
      "<class 'pandas.core.frame.DataFrame'>\n",
      "RangeIndex: 21203 entries, 0 to 21202\n",
      "Data columns (total 22 columns):\n",
      " #   Column               Non-Null Count  Dtype         \n",
      "---  ------               --------------  -----         \n",
      " 0   DATA                 21203 non-null  datetime64[ns]\n",
      " 1   HORA                 21203 non-null  object        \n",
      " 2   NATUREZA_ACIDENTE    21203 non-null  object        \n",
      " 3   SITUACAO             21203 non-null  object        \n",
      " 4   BAIRRO               21203 non-null  object        \n",
      " 5   AUTO                 21203 non-null  int32         \n",
      " 6   MOTO                 21203 non-null  int32         \n",
      " 7   CICLOM               21203 non-null  int32         \n",
      " 8   CICLISTA             21203 non-null  int32         \n",
      " 9   PEDESTRE             21203 non-null  int32         \n",
      " 10  ONIBUS               21203 non-null  int32         \n",
      " 11  CAMINHAO             21203 non-null  int32         \n",
      " 12  VIATURA              21203 non-null  int32         \n",
      " 13  OUTROS               21203 non-null  int32         \n",
      " 14  VITIMAS              21203 non-null  int32         \n",
      " 15  TEMPO_CLIMA          21203 non-null  object        \n",
      " 16  SINALIZACAO          21203 non-null  object        \n",
      " 17  CONDICAO_VIA         21203 non-null  object        \n",
      " 18  CONSERVACAO_VIA      21203 non-null  object        \n",
      " 19  MAO_DIRECAO          21203 non-null  object        \n",
      " 20  TIPO                 9141 non-null   object        \n",
      " 21  ACIDENTE_VERIFICADO  9141 non-null   object        \n",
      "dtypes: datetime64[ns](1), int32(10), object(11)\n",
      "memory usage: 2.8+ MB\n"
     ]
    }
   ],
   "source": [
    "df_total.info()"
   ]
  },
  {
   "cell_type": "markdown",
   "metadata": {},
   "source": [
    "### PRIMEIRO MERGE (DF-TOTAL + BAIRROS-RECIFE)"
   ]
  },
  {
   "cell_type": "code",
   "execution_count": 10,
   "metadata": {},
   "outputs": [],
   "source": [
    "# Unir os DataFrames com base no campo \"BAIRROS\" e \"BAIRRO\"\n",
    "df_unido = pd.merge(df_total, bairros_recife, how='left', left_on='BAIRRO', right_on='BAIRRO')"
   ]
  },
  {
   "cell_type": "code",
   "execution_count": 11,
   "metadata": {},
   "outputs": [],
   "source": [
    "# Convertendo colunas para inteiros\n",
    "int_columns_unido = ['RPA']\n",
    "df_unido[int_columns_unido] = df_unido[int_columns_unido].fillna(0).astype(int)"
   ]
  },
  {
   "cell_type": "code",
   "execution_count": 12,
   "metadata": {},
   "outputs": [
    {
     "name": "stdout",
     "output_type": "stream",
     "text": [
      "<class 'pandas.core.frame.DataFrame'>\n",
      "Int64Index: 21203 entries, 0 to 21202\n",
      "Data columns (total 23 columns):\n",
      " #   Column               Non-Null Count  Dtype         \n",
      "---  ------               --------------  -----         \n",
      " 0   DATA                 21203 non-null  datetime64[ns]\n",
      " 1   HORA                 21203 non-null  object        \n",
      " 2   NATUREZA_ACIDENTE    21203 non-null  object        \n",
      " 3   SITUACAO             21203 non-null  object        \n",
      " 4   BAIRRO               21203 non-null  object        \n",
      " 5   AUTO                 21203 non-null  int32         \n",
      " 6   MOTO                 21203 non-null  int32         \n",
      " 7   CICLOM               21203 non-null  int32         \n",
      " 8   CICLISTA             21203 non-null  int32         \n",
      " 9   PEDESTRE             21203 non-null  int32         \n",
      " 10  ONIBUS               21203 non-null  int32         \n",
      " 11  CAMINHAO             21203 non-null  int32         \n",
      " 12  VIATURA              21203 non-null  int32         \n",
      " 13  OUTROS               21203 non-null  int32         \n",
      " 14  VITIMAS              21203 non-null  int32         \n",
      " 15  TEMPO_CLIMA          21203 non-null  object        \n",
      " 16  SINALIZACAO          21203 non-null  object        \n",
      " 17  CONDICAO_VIA         21203 non-null  object        \n",
      " 18  CONSERVACAO_VIA      21203 non-null  object        \n",
      " 19  MAO_DIRECAO          21203 non-null  object        \n",
      " 20  TIPO                 9141 non-null   object        \n",
      " 21  ACIDENTE_VERIFICADO  9141 non-null   object        \n",
      " 22  RPA                  21203 non-null  int32         \n",
      "dtypes: datetime64[ns](1), int32(11), object(11)\n",
      "memory usage: 3.0+ MB\n"
     ]
    }
   ],
   "source": [
    "df_unido.info()"
   ]
  },
  {
   "cell_type": "markdown",
   "metadata": {},
   "source": [
    "### MERGE DF-TOTAL + REGIOES"
   ]
  },
  {
   "cell_type": "code",
   "execution_count": 13,
   "metadata": {},
   "outputs": [
    {
     "name": "stdout",
     "output_type": "stream",
     "text": [
      "<class 'pandas.core.frame.DataFrame'>\n",
      "RangeIndex: 6 entries, 0 to 5\n",
      "Data columns (total 2 columns):\n",
      " #   Column  Non-Null Count  Dtype \n",
      "---  ------  --------------  ----- \n",
      " 0   RPA     6 non-null      int64 \n",
      " 1   REGIAO  6 non-null      object\n",
      "dtypes: int64(1), object(1)\n",
      "memory usage: 224.0+ bytes\n"
     ]
    }
   ],
   "source": [
    "regiao.info()"
   ]
  },
  {
   "cell_type": "code",
   "execution_count": 14,
   "metadata": {},
   "outputs": [],
   "source": [
    "# Unir os DataFrames com base no campo \"RPA\"\n",
    "df_final = pd.merge(df_unido, regiao, how='left', left_on='RPA', right_on='RPA')\n"
   ]
  },
  {
   "cell_type": "code",
   "execution_count": 15,
   "metadata": {},
   "outputs": [
    {
     "name": "stdout",
     "output_type": "stream",
     "text": [
      "<class 'pandas.core.frame.DataFrame'>\n",
      "Int64Index: 21203 entries, 0 to 21202\n",
      "Data columns (total 24 columns):\n",
      " #   Column               Non-Null Count  Dtype         \n",
      "---  ------               --------------  -----         \n",
      " 0   DATA                 21203 non-null  datetime64[ns]\n",
      " 1   HORA                 21203 non-null  object        \n",
      " 2   NATUREZA_ACIDENTE    21203 non-null  object        \n",
      " 3   SITUACAO             21203 non-null  object        \n",
      " 4   BAIRRO               21203 non-null  object        \n",
      " 5   AUTO                 21203 non-null  int32         \n",
      " 6   MOTO                 21203 non-null  int32         \n",
      " 7   CICLOM               21203 non-null  int32         \n",
      " 8   CICLISTA             21203 non-null  int32         \n",
      " 9   PEDESTRE             21203 non-null  int32         \n",
      " 10  ONIBUS               21203 non-null  int32         \n",
      " 11  CAMINHAO             21203 non-null  int32         \n",
      " 12  VIATURA              21203 non-null  int32         \n",
      " 13  OUTROS               21203 non-null  int32         \n",
      " 14  VITIMAS              21203 non-null  int32         \n",
      " 15  TEMPO_CLIMA          21203 non-null  object        \n",
      " 16  SINALIZACAO          21203 non-null  object        \n",
      " 17  CONDICAO_VIA         21203 non-null  object        \n",
      " 18  CONSERVACAO_VIA      21203 non-null  object        \n",
      " 19  MAO_DIRECAO          21203 non-null  object        \n",
      " 20  TIPO                 9141 non-null   object        \n",
      " 21  ACIDENTE_VERIFICADO  9141 non-null   object        \n",
      " 22  RPA                  21203 non-null  int32         \n",
      " 23  REGIAO               16978 non-null  object        \n",
      "dtypes: datetime64[ns](1), int32(11), object(12)\n",
      "memory usage: 3.2+ MB\n"
     ]
    }
   ],
   "source": [
    "df_final.info()"
   ]
  },
  {
   "cell_type": "code",
   "execution_count": 16,
   "metadata": {},
   "outputs": [],
   "source": [
    "\n",
    "\n",
    "# Caminho do arquivo onde deseja salvar o DataFrame em formato CSV\n",
    "caminho_do_arquivo_csv = \"./spec_acidentes_transito_recife.csv\"\n",
    "\n",
    "# o diretório do caminho do arquivo\n",
    "diretorio = os.path.dirname(caminho_do_arquivo_csv)\n",
    "\n",
    "# Verifique se o diretório existe, se não, crie\n",
    "if not os.path.exists(diretorio):\n",
    "    os.makedirs(diretorio)\n",
    "\n",
    "# Salve o DataFrame em um arquivo CSV\n",
    "df_final.to_csv(caminho_do_arquivo_csv, index=False, quotechar='\"', quoting=csv.QUOTE_ALL)\n"
   ]
  }
 ],
 "metadata": {
  "kernelspec": {
   "display_name": "Python 3",
   "language": "python",
   "name": "python3"
  },
  "language_info": {
   "codemirror_mode": {
    "name": "ipython",
    "version": 3
   },
   "file_extension": ".py",
   "mimetype": "text/x-python",
   "name": "python",
   "nbconvert_exporter": "python",
   "pygments_lexer": "ipython3",
   "version": "3.9.12"
  }
 },
 "nbformat": 4,
 "nbformat_minor": 2
}
